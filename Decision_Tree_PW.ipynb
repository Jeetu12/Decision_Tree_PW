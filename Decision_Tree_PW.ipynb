{
  "nbformat": 4,
  "nbformat_minor": 0,
  "metadata": {
    "colab": {
      "provenance": []
    },
    "kernelspec": {
      "name": "python3",
      "display_name": "Python 3"
    },
    "language_info": {
      "name": "python"
    }
  },
  "cells": [
    {
      "cell_type": "markdown",
      "source": [
        "# **Decision Tree - Assignment Questions:-**\n",
        "# **Theoretical:**\n",
        "\n",
        "### ✅ **1. What is a Decision Tree, and how does it work?**\n",
        "\n",
        "- A **Decision Tree** is a **supervised learning algorithm** used for both **classification and regression** tasks. It works by recursively splitting the dataset into smaller subsets based on feature values to form a tree-like structure.\n",
        "\n",
        "#### 🌳 How it works:\n",
        "\n",
        "1. **Root Node**: Represents the entire dataset.\n",
        "\n",
        "2. **Splitting**: The dataset is divided based on a feature that results in the best separation (using metrics like Gini or Entropy).\n",
        "\n",
        "3. **Decision Nodes**: Internal nodes that represent decisions based on feature values.\n",
        "\n",
        "4. **Leaf Nodes**: Terminal nodes that represent output labels or predicted values.\n",
        "\n",
        "- At each step, the algorithm chooses the feature and threshold that **maximizes Information Gain** (or minimizes Gini Impurity) to split the data.\n",
        "\n",
        "---\n",
        "\n",
        "### ✅ **2. What are impurity measures in Decision Trees?**\n",
        "\n",
        "- **Impurity measures** determine how mixed or pure a node is. A node is **pure** if all data points in it belong to the same class.\n",
        "\n",
        "~ Common impurity measures:\n",
        "\n",
        "* **Gini Impurity**: Measures the probability of misclassifying a randomly chosen element.\n",
        "\n",
        "* **Entropy**: Based on information theory; measures the amount of disorder or uncertainty.\n",
        "\n",
        "* **Variance Reduction**: Used in regression trees to measure the reduction in variance after a split.\n",
        "\n",
        "~ These metrics guide the **splitting process** by selecting the feature that leads to the lowest impurity.\n",
        "\n",
        "---\n",
        "\n",
        "### ✅ **3. What is the mathematical formula for Gini Impurity?**\n",
        "\n",
        "- The mathematical formula for Gini Impurity is:\n",
        "\n",
        "$$\n",
        "\\text{Gini}(t) = 1 - \\sum_{i=1}^{C} p_i^2\n",
        "$$\n",
        "\n",
        "~ Where:\n",
        "\n",
        "* $C$ = number of classes\n",
        "* $p_i$ = proportion of class $i$ in node $t$\n",
        "\n",
        "🔹 Example:\n",
        "If a node has 60% class A and 40% class B:\n",
        "\n",
        "$$\n",
        "\\text{Gini} = 1 - (0.6^2 + 0.4^2) = 1 - (0.36 + 0.16) = 0.48\n",
        "$$\n",
        "\n",
        "---\n",
        "\n",
        "### ✅ **4. What is the mathematical formula for Entropy?**\n",
        "\n",
        "- The mathematical formula for Entropy is:\n",
        "\n",
        "$$\n",
        "\\text{Entropy}(t) = - \\sum_{i=1}^{C} p_i \\log_2(p_i)\n",
        "$$\n",
        "\n",
        "~ Where:\n",
        "\n",
        "* $C$ = number of classes\n",
        "* $p_i$ = proportion of class $i$ in node $t$\n",
        "\n",
        "🔹 Example:\n",
        "For 50% class A and 50% class B:\n",
        "\n",
        "$$\n",
        "\\text{Entropy} = - (0.5 \\log_2 0.5 + 0.5 \\log_2 0.5) = 1\n",
        "$$\n",
        "\n",
        "---\n",
        "\n",
        "### ✅ **5. What is Information Gain, and how is it used in Decision Trees?**\n",
        "\n",
        "- **Information Gain (IG)** measures the **reduction in impurity** (like Entropy or Gini) from a split.\n",
        "\n",
        "$$\n",
        "\\text{Information Gain} = \\text{Impurity (parent)} - \\sum \\left(\\frac{n_i}{n} \\times \\text{Impurity}(i)\\right)\n",
        "$$\n",
        "\n",
        "~ Where:\n",
        "\n",
        "* $n$ = total samples in parent\n",
        "\n",
        "* $n_i$ = samples in child node $i$\n",
        "\n",
        "~ Used to choose the best feature and split point in Decision Trees — higher IG means better split.\n",
        "\n",
        "---\n",
        "\n",
        "### ✅ **6. What is the difference between Gini Impurity and Entropy?**\n",
        "\n",
        "- The difference between Gini Impurity and Entrophy are:\n",
        "\n",
        "| Criteria | Gini Impurity      | Entropy                           |\n",
        "| -------- | ------------------ | --------------------------------- |\n",
        "| Formula  | $1 - \\sum p_i^2$   | $-\\sum p_i \\log_2 p_i$            |\n",
        "| Speed    | Faster to compute  | Slower (uses log operations)      |\n",
        "| Behavior | Prefers pure nodes | More sensitive to class imbalance |\n",
        "| Range    | 0 to 1             | 0 to $\\log_2 C$                   |\n",
        "\n",
        "~ Both give similar results; **Gini** is used by default in scikit-learn.\n",
        "\n",
        "---\n",
        "\n",
        "### ✅ **7. What is the mathematical explanation behind Decision Trees?**\n",
        "\n",
        "- Mathematically, a Decision Tree splits data $D$ at each node by selecting a feature $A$ and a threshold $t$ that **maximizes a score** like Information Gain or minimizes impurity.\n",
        "\n",
        "$$\n",
        "\\text{Best Split} = \\arg\\max_{A, t} \\; IG(D, A, t)\n",
        "$$\n",
        "\n",
        "- The process continues **recursively**, and is often represented as a **greedy optimization** problem.\n",
        "\n",
        "- In regression trees, instead of classification error, it minimizes:\n",
        "\n",
        "$$\n",
        "\\text{MSE} = \\frac{1}{n} \\sum_{i=1}^{n} (y_i - \\bar{y})^2\n",
        "$$\n",
        "\n",
        "---\n",
        "\n",
        "### ✅ **8. What is Pre-Pruning in Decision Trees?**\n",
        "\n",
        "- **Pre-pruning** (a.k.a. **early stopping**) stops tree growth early by applying constraints **before** a full tree is grown.\n",
        "\n",
        "~ Common criteria:\n",
        "\n",
        "* Maximum depth (`max_depth`)\n",
        "\n",
        "* Minimum samples per leaf (`min_samples_leaf`)\n",
        "\n",
        "* Minimum impurity decrease\n",
        "\n",
        "~ Prevents overfitting by **limiting model complexity**.\n",
        "\n",
        "---\n",
        "\n",
        "### ✅ **9. What is Post-Pruning in Decision Trees?**\n",
        "\n",
        "- **Post-pruning** (a.k.a. **Cost Complexity Pruning**) builds the full tree first, then **removes branches** that don’t improve performance on validation data.\n",
        "\n",
        "- In scikit-learn, done using:\n",
        "\n",
        "```python\n",
        "DecisionTreeClassifier(ccp_alpha=...)\n",
        "```\n",
        "\n",
        "~ Helps generalize better by reducing **overfitting** after full training.\n",
        "\n",
        "---\n",
        "\n",
        "### ✅ **10. What is the difference between Pre-Pruning and Post-Pruning?**\n",
        "\n",
        "- The difference between Pre-Pruning and Post-Pruning are:\n",
        "\n",
        "| Feature      | Pre-Pruning                    | Post-Pruning                        |\n",
        "| ------------ | ------------------------------ | ----------------------------------- |\n",
        "| When Applied | During tree construction       | After full tree is built            |\n",
        "| Method       | Sets limits like depth         | Prunes using validation accuracy    |\n",
        "| Goal         | Avoid over-complex trees early | Simplify a trained model            |\n",
        "| Risk         | Underfitting                   | Generally safer, avoids overfitting |\n",
        "\n",
        "---\n",
        "\n",
        "### ✅ **11. What is a Decision Tree Regressor?**\n",
        "\n",
        "- A **Decision Tree Regressor** predicts **continuous values** instead of classes.\n",
        "\n",
        "- It splits data based on minimizing **variance (MSE)** rather than classification impurity.\n",
        "\n",
        "- Example use: Predicting **house prices**, **sales**, **weather**, etc.\n",
        "\n",
        "---\n",
        "\n",
        "### ✅ **12. What are the advantages and disadvantages of Decision Trees?**\n",
        "\n",
        "- The advantages and disadvantages of Decision Trees are:\n",
        "\n",
        "#### Advantages:\n",
        "\n",
        "* Easy to understand & interpret (white-box model)\n",
        "\n",
        "* Works on both numerical & categorical data\n",
        "\n",
        "* No need for feature scaling\n",
        "\n",
        "* Handles non-linear data well\n",
        "\n",
        "#### Disadvantages:\n",
        "\n",
        "* Prone to **overfitting**\n",
        "\n",
        "* **Unstable** (small changes in data → different tree)\n",
        "\n",
        "* Biased if classes are imbalanced\n",
        "\n",
        "* Greedy approach may not find the global optimum\n",
        "\n",
        "---\n",
        "\n",
        "### ✅ **13. How does a Decision Tree handle missing values?**\n",
        "\n",
        "- Decision Trees handle missing data by:\n",
        "\n",
        " - **Skipping samples** with missing values\n",
        "\n",
        " - **Imputing** values using mean/median/mode\n",
        "\n",
        " - **Using surrogate splits**: alternate features that approximate the same split (supported in some libraries)\n",
        "\n",
        "- Scikit-learn **does not natively support missing values**, but you can use `SimpleImputer` before training.\n",
        "\n",
        "---\n",
        "\n",
        "### ✅ **14. How does a Decision Tree handle categorical features?**\n",
        "\n",
        "- Categorical features must be **encoded** into numeric form before training (e.g., **Label Encoding**, **One-Hot Encoding**).\n",
        "\n",
        "* Some libraries (like **LightGBM** or **CatBoost**) can handle categorical features directly.\n",
        "\n",
        "- Scikit-learn requires manual encoding:\n",
        "\n",
        "```python\n",
        "from sklearn.preprocessing import OneHotEncoder\n",
        "```\n",
        "\n",
        "---\n",
        "\n",
        "### ✅ **15. What are some real-world applications of Decision Trees?**\n",
        "\n",
        "- Some real-world applications of Decision Trees are:\n",
        "\n",
        " - 📈 **Finance**: Credit risk modeling, fraud detection\n",
        "\n",
        " - 🏥 **Healthcare**: Diagnosis support systems\n",
        "\n",
        " - 🛒 **Retail**: Predicting customer churn, product recommendation\n",
        "\n",
        " - ⚖️ **Legal**: Legal decision automation\n",
        "\n",
        " - 🎓 **Education**: Student performance prediction\n",
        "\n",
        " - 🏡 **Real Estate**: House price prediction (regression trees)\n",
        "\n",
        "---\n",
        "\n"
      ],
      "metadata": {
        "id": "uX2r7_pta7Za"
      }
    },
    {
      "cell_type": "markdown",
      "source": [
        "# **Practical:**\n",
        "\n",
        "16. Write a Python program to train a Decision Tree Classifier on the Iris dataset and print the model accuracy."
      ],
      "metadata": {
        "id": "Ki22OSh7r0rp"
      }
    },
    {
      "cell_type": "code",
      "source": [
        "from sklearn.datasets import load_iris\n",
        "from sklearn.tree import DecisionTreeClassifier\n",
        "from sklearn.model_selection import train_test_split\n",
        "from sklearn.metrics import accuracy_score\n",
        "\n",
        "# Load dataset\n",
        "iris = load_iris()\n",
        "X = iris.data\n",
        "y = iris.target\n",
        "\n",
        "# Split data\n",
        "X_train, X_test, y_train, y_test = train_test_split(X, y, test_size=0.3, random_state=42)\n",
        "\n",
        "# Train model\n",
        "clf = DecisionTreeClassifier()\n",
        "clf.fit(X_train, y_train)\n",
        "\n",
        "# Predict and evaluate\n",
        "y_pred = clf.predict(X_test)\n",
        "accuracy = accuracy_score(y_test, y_pred)\n",
        "\n",
        "print(f\"Model Accuracy: {accuracy:.2f}\")\n"
      ],
      "metadata": {
        "colab": {
          "base_uri": "https://localhost:8080/"
        },
        "id": "upsLULYutXvs",
        "outputId": "d3b58c61-73b9-4d72-f3f4-b1827fd98114"
      },
      "execution_count": null,
      "outputs": [
        {
          "output_type": "stream",
          "name": "stdout",
          "text": [
            "Model Accuracy: 1.00\n"
          ]
        }
      ]
    },
    {
      "cell_type": "markdown",
      "source": [
        "17. Write a Python program to train a Decision Tree Classifier using Gini Impurity as the criterion and print the\n",
        "feature importances."
      ],
      "metadata": {
        "id": "16mXatKPthqr"
      }
    },
    {
      "cell_type": "code",
      "source": [
        "clf_gini = DecisionTreeClassifier(criterion='gini', random_state=42)\n",
        "clf_gini.fit(X_train, y_train)\n",
        "\n",
        "# Print feature importances\n",
        "importances = clf_gini.feature_importances_\n",
        "for feature, importance in zip(iris.feature_names, importances):\n",
        "    print(f\"{feature}: {importance:.4f}\")\n"
      ],
      "metadata": {
        "colab": {
          "base_uri": "https://localhost:8080/"
        },
        "id": "MuYOMsAbto79",
        "outputId": "d907465b-be2c-4704-9770-d02cc7bb8ef0"
      },
      "execution_count": null,
      "outputs": [
        {
          "output_type": "stream",
          "name": "stdout",
          "text": [
            "sepal length (cm): 0.0000\n",
            "sepal width (cm): 0.0191\n",
            "petal length (cm): 0.8933\n",
            "petal width (cm): 0.0876\n"
          ]
        }
      ]
    },
    {
      "cell_type": "markdown",
      "source": [
        "18. Write a Python program to train a Decision Tree Classifier using Entropy as the splitting criterion and print the\n",
        "model accuracy."
      ],
      "metadata": {
        "id": "2I16h5jyt7AB"
      }
    },
    {
      "cell_type": "code",
      "source": [
        "clf_entropy = DecisionTreeClassifier(criterion='entropy', random_state=42)\n",
        "clf_entropy.fit(X_train, y_train)\n",
        "\n",
        "# Predict and evaluate\n",
        "y_pred_entropy = clf_entropy.predict(X_test)\n",
        "accuracy_entropy = accuracy_score(y_test, y_pred_entropy)\n",
        "\n",
        "print(f\"Model Accuracy (Entropy): {accuracy_entropy:.2f}\")\n"
      ],
      "metadata": {
        "colab": {
          "base_uri": "https://localhost:8080/"
        },
        "id": "YmRfhW-nuhbz",
        "outputId": "c103bbc0-0d48-4b19-a71b-4f8ef2f2f198"
      },
      "execution_count": null,
      "outputs": [
        {
          "output_type": "stream",
          "name": "stdout",
          "text": [
            "Model Accuracy (Entropy): 0.98\n"
          ]
        }
      ]
    },
    {
      "cell_type": "markdown",
      "source": [
        "19. Write a Python program to train a Decision Tree Regressor on a housing dataset and evaluate using Mean\n",
        "Squared Error (MSE)."
      ],
      "metadata": {
        "id": "uekdR_-eumdw"
      }
    },
    {
      "cell_type": "code",
      "source": [
        "from sklearn.datasets import fetch_california_housing\n",
        "from sklearn.tree import DecisionTreeRegressor\n",
        "from sklearn.metrics import mean_squared_error\n",
        "\n",
        "# Load data\n",
        "housing = fetch_california_housing()\n",
        "X_h, y_h = housing.data, housing.target\n",
        "\n",
        "# Split data\n",
        "X_train_h, X_test_h, y_train_h, y_test_h = train_test_split(X_h, y_h, test_size=0.3, random_state=42)\n",
        "\n",
        "# Train model\n",
        "regressor = DecisionTreeRegressor(random_state=42)\n",
        "regressor.fit(X_train_h, y_train_h)\n",
        "\n",
        "# Predict and evaluate\n",
        "y_pred_h = regressor.predict(X_test_h)\n",
        "mse = mean_squared_error(y_test_h, y_pred_h)\n",
        "\n",
        "print(f\"Mean Squared Error: {mse:.2f}\")\n"
      ],
      "metadata": {
        "colab": {
          "base_uri": "https://localhost:8080/"
        },
        "id": "LOrf9Fvsuw_5",
        "outputId": "e4590e85-7567-453a-d617-bf870bf3bcef"
      },
      "execution_count": null,
      "outputs": [
        {
          "output_type": "stream",
          "name": "stdout",
          "text": [
            "Mean Squared Error: 0.53\n"
          ]
        }
      ]
    },
    {
      "cell_type": "markdown",
      "source": [
        "20. Write a Python program to train a Decision Tree Classifier and visualize the tree using graphviz."
      ],
      "metadata": {
        "id": "Tuy3wIN1u1Ol"
      }
    },
    {
      "cell_type": "code",
      "source": [
        "!pip install graphviz\n",
        "\n",
        "import graphviz\n",
        "from sklearn.tree import export_graphviz\n",
        "\n",
        "# Train model (using the previously trained clf)\n",
        "# clf = DecisionTreeClassifier(random_state=42)\n",
        "# clf.fit(X_train, y_train) # Assumes X_train and y_train from Q16 are available\n",
        "\n",
        "# Visualize the tree\n",
        "data = export_graphviz(\n",
        "    clf,\n",
        "    out_file=None,\n",
        "    feature_names=iris.feature_names,\n",
        "    class_names=iris.target_names,\n",
        "    filled=True,\n",
        "    rounded=True,\n",
        "    special_characters=True\n",
        ")\n",
        "graph = graphviz.Source(data)\n",
        "graph.render(\"iris_decision_tree\", view=False) # Saves the tree to a file (e.g., iris_decision_tree.pdf)\n",
        "graph # Display the tree in the notebook"
      ],
      "metadata": {
        "colab": {
          "base_uri": "https://localhost:8080/",
          "height": 1000
        },
        "id": "H7wsRuEHvRIr",
        "outputId": "7ff2aeef-4d8c-4e98-b6f1-93fc99f285c9"
      },
      "execution_count": null,
      "outputs": [
        {
          "output_type": "stream",
          "name": "stdout",
          "text": [
            "Requirement already satisfied: graphviz in /usr/local/lib/python3.11/dist-packages (0.20.3)\n"
          ]
        },
        {
          "output_type": "execute_result",
          "data": {
            "image/svg+xml": "<?xml version=\"1.0\" encoding=\"UTF-8\" standalone=\"no\"?>\n<!DOCTYPE svg PUBLIC \"-//W3C//DTD SVG 1.1//EN\"\n \"http://www.w3.org/Graphics/SVG/1.1/DTD/svg11.dtd\">\n<!-- Generated by graphviz version 2.43.0 (0)\n -->\n<!-- Title: Tree Pages: 1 -->\n<svg width=\"758pt\" height=\"790pt\"\n viewBox=\"0.00 0.00 758.00 790.00\" xmlns=\"http://www.w3.org/2000/svg\" xmlns:xlink=\"http://www.w3.org/1999/xlink\">\n<g id=\"graph0\" class=\"graph\" transform=\"scale(1 1) rotate(0) translate(4 786)\">\n<title>Tree</title>\n<polygon fill=\"white\" stroke=\"transparent\" points=\"-4,4 -4,-786 754,-786 754,4 -4,4\"/>\n<!-- 0 -->\n<g id=\"node1\" class=\"node\">\n<title>0</title>\n<path fill=\"#ffffff\" stroke=\"black\" d=\"M258.5,-782C258.5,-782 136.5,-782 136.5,-782 130.5,-782 124.5,-776 124.5,-770 124.5,-770 124.5,-711 124.5,-711 124.5,-705 130.5,-699 136.5,-699 136.5,-699 258.5,-699 258.5,-699 264.5,-699 270.5,-705 270.5,-711 270.5,-711 270.5,-770 270.5,-770 270.5,-776 264.5,-782 258.5,-782\"/>\n<text text-anchor=\"start\" x=\"132.5\" y=\"-766.8\" font-family=\"Helvetica,sans-Serif\" font-size=\"14.00\">petal width (cm) ≤ 0.8</text>\n<text text-anchor=\"start\" x=\"162\" y=\"-751.8\" font-family=\"Helvetica,sans-Serif\" font-size=\"14.00\">gini = 0.664</text>\n<text text-anchor=\"start\" x=\"152.5\" y=\"-736.8\" font-family=\"Helvetica,sans-Serif\" font-size=\"14.00\">samples = 105</text>\n<text text-anchor=\"start\" x=\"139.5\" y=\"-721.8\" font-family=\"Helvetica,sans-Serif\" font-size=\"14.00\">value = [31, 37, 37]</text>\n<text text-anchor=\"start\" x=\"145\" y=\"-706.8\" font-family=\"Helvetica,sans-Serif\" font-size=\"14.00\">class = versicolor</text>\n</g>\n<!-- 1 -->\n<g id=\"node2\" class=\"node\">\n<title>1</title>\n<path fill=\"#e58139\" stroke=\"black\" d=\"M166,-655.5C166,-655.5 73,-655.5 73,-655.5 67,-655.5 61,-649.5 61,-643.5 61,-643.5 61,-599.5 61,-599.5 61,-593.5 67,-587.5 73,-587.5 73,-587.5 166,-587.5 166,-587.5 172,-587.5 178,-593.5 178,-599.5 178,-599.5 178,-643.5 178,-643.5 178,-649.5 172,-655.5 166,-655.5\"/>\n<text text-anchor=\"start\" x=\"91.5\" y=\"-640.3\" font-family=\"Helvetica,sans-Serif\" font-size=\"14.00\">gini = 0.0</text>\n<text text-anchor=\"start\" x=\"78.5\" y=\"-625.3\" font-family=\"Helvetica,sans-Serif\" font-size=\"14.00\">samples = 31</text>\n<text text-anchor=\"start\" x=\"69\" y=\"-610.3\" font-family=\"Helvetica,sans-Serif\" font-size=\"14.00\">value = [31, 0, 0]</text>\n<text text-anchor=\"start\" x=\"76\" y=\"-595.3\" font-family=\"Helvetica,sans-Serif\" font-size=\"14.00\">class = setosa</text>\n</g>\n<!-- 0&#45;&gt;1 -->\n<g id=\"edge1\" class=\"edge\">\n<title>0&#45;&gt;1</title>\n<path fill=\"none\" stroke=\"black\" d=\"M170.44,-698.91C162.93,-687.65 154.78,-675.42 147.24,-664.11\"/>\n<polygon fill=\"black\" stroke=\"black\" points=\"150.07,-662.05 141.61,-655.67 144.25,-665.93 150.07,-662.05\"/>\n<text text-anchor=\"middle\" x=\"136.71\" y=\"-676.48\" font-family=\"Helvetica,sans-Serif\" font-size=\"14.00\">True</text>\n</g>\n<!-- 2 -->\n<g id=\"node3\" class=\"node\">\n<title>2</title>\n<path fill=\"#ffffff\" stroke=\"black\" d=\"M343,-663C343,-663 208,-663 208,-663 202,-663 196,-657 196,-651 196,-651 196,-592 196,-592 196,-586 202,-580 208,-580 208,-580 343,-580 343,-580 349,-580 355,-586 355,-592 355,-592 355,-651 355,-651 355,-657 349,-663 343,-663\"/>\n<text text-anchor=\"start\" x=\"204\" y=\"-647.8\" font-family=\"Helvetica,sans-Serif\" font-size=\"14.00\">petal length (cm) ≤ 4.75</text>\n<text text-anchor=\"start\" x=\"247.5\" y=\"-632.8\" font-family=\"Helvetica,sans-Serif\" font-size=\"14.00\">gini = 0.5</text>\n<text text-anchor=\"start\" x=\"234.5\" y=\"-617.8\" font-family=\"Helvetica,sans-Serif\" font-size=\"14.00\">samples = 74</text>\n<text text-anchor=\"start\" x=\"221\" y=\"-602.8\" font-family=\"Helvetica,sans-Serif\" font-size=\"14.00\">value = [0, 37, 37]</text>\n<text text-anchor=\"start\" x=\"223\" y=\"-587.8\" font-family=\"Helvetica,sans-Serif\" font-size=\"14.00\">class = versicolor</text>\n</g>\n<!-- 0&#45;&gt;2 -->\n<g id=\"edge2\" class=\"edge\">\n<title>0&#45;&gt;2</title>\n<path fill=\"none\" stroke=\"black\" d=\"M224.56,-698.91C230.43,-690.1 236.7,-680.7 242.76,-671.61\"/>\n<polygon fill=\"black\" stroke=\"black\" points=\"245.85,-673.28 248.49,-663.02 240.03,-669.4 245.85,-673.28\"/>\n<text text-anchor=\"middle\" x=\"253.39\" y=\"-683.84\" font-family=\"Helvetica,sans-Serif\" font-size=\"14.00\">False</text>\n</g>\n<!-- 3 -->\n<g id=\"node4\" class=\"node\">\n<title>3</title>\n<path fill=\"#3fe685\" stroke=\"black\" d=\"M252.5,-544C252.5,-544 130.5,-544 130.5,-544 124.5,-544 118.5,-538 118.5,-532 118.5,-532 118.5,-473 118.5,-473 118.5,-467 124.5,-461 130.5,-461 130.5,-461 252.5,-461 252.5,-461 258.5,-461 264.5,-467 264.5,-473 264.5,-473 264.5,-532 264.5,-532 264.5,-538 258.5,-544 252.5,-544\"/>\n<text text-anchor=\"start\" x=\"126.5\" y=\"-528.8\" font-family=\"Helvetica,sans-Serif\" font-size=\"14.00\">petal width (cm) ≤ 1.6</text>\n<text text-anchor=\"start\" x=\"156\" y=\"-513.8\" font-family=\"Helvetica,sans-Serif\" font-size=\"14.00\">gini = 0.059</text>\n<text text-anchor=\"start\" x=\"150.5\" y=\"-498.8\" font-family=\"Helvetica,sans-Serif\" font-size=\"14.00\">samples = 33</text>\n<text text-anchor=\"start\" x=\"141\" y=\"-483.8\" font-family=\"Helvetica,sans-Serif\" font-size=\"14.00\">value = [0, 32, 1]</text>\n<text text-anchor=\"start\" x=\"139\" y=\"-468.8\" font-family=\"Helvetica,sans-Serif\" font-size=\"14.00\">class = versicolor</text>\n</g>\n<!-- 2&#45;&gt;3 -->\n<g id=\"edge3\" class=\"edge\">\n<title>2&#45;&gt;3</title>\n<path fill=\"none\" stroke=\"black\" d=\"M246.36,-579.91C239.97,-571.01 233.15,-561.51 226.56,-552.33\"/>\n<polygon fill=\"black\" stroke=\"black\" points=\"229.27,-550.1 220.59,-544.02 223.58,-554.19 229.27,-550.1\"/>\n</g>\n<!-- 6 -->\n<g id=\"node7\" class=\"node\">\n<title>6</title>\n<path fill=\"#9254e9\" stroke=\"black\" d=\"M424.5,-544C424.5,-544 294.5,-544 294.5,-544 288.5,-544 282.5,-538 282.5,-532 282.5,-532 282.5,-473 282.5,-473 282.5,-467 288.5,-461 294.5,-461 294.5,-461 424.5,-461 424.5,-461 430.5,-461 436.5,-467 436.5,-473 436.5,-473 436.5,-532 436.5,-532 436.5,-538 430.5,-544 424.5,-544\"/>\n<text text-anchor=\"start\" x=\"290.5\" y=\"-528.8\" font-family=\"Helvetica,sans-Serif\" font-size=\"14.00\">petal width (cm) ≤ 1.75</text>\n<text text-anchor=\"start\" x=\"324\" y=\"-513.8\" font-family=\"Helvetica,sans-Serif\" font-size=\"14.00\">gini = 0.214</text>\n<text text-anchor=\"start\" x=\"318.5\" y=\"-498.8\" font-family=\"Helvetica,sans-Serif\" font-size=\"14.00\">samples = 41</text>\n<text text-anchor=\"start\" x=\"309\" y=\"-483.8\" font-family=\"Helvetica,sans-Serif\" font-size=\"14.00\">value = [0, 5, 36]</text>\n<text text-anchor=\"start\" x=\"311\" y=\"-468.8\" font-family=\"Helvetica,sans-Serif\" font-size=\"14.00\">class = virginica</text>\n</g>\n<!-- 2&#45;&gt;6 -->\n<g id=\"edge6\" class=\"edge\">\n<title>2&#45;&gt;6</title>\n<path fill=\"none\" stroke=\"black\" d=\"M304.64,-579.91C311.03,-571.01 317.85,-561.51 324.44,-552.33\"/>\n<polygon fill=\"black\" stroke=\"black\" points=\"327.42,-554.19 330.41,-544.02 321.73,-550.1 327.42,-554.19\"/>\n</g>\n<!-- 4 -->\n<g id=\"node5\" class=\"node\">\n<title>4</title>\n<path fill=\"#39e581\" stroke=\"black\" d=\"M109,-417.5C109,-417.5 12,-417.5 12,-417.5 6,-417.5 0,-411.5 0,-405.5 0,-405.5 0,-361.5 0,-361.5 0,-355.5 6,-349.5 12,-349.5 12,-349.5 109,-349.5 109,-349.5 115,-349.5 121,-355.5 121,-361.5 121,-361.5 121,-405.5 121,-405.5 121,-411.5 115,-417.5 109,-417.5\"/>\n<text text-anchor=\"start\" x=\"32.5\" y=\"-402.3\" font-family=\"Helvetica,sans-Serif\" font-size=\"14.00\">gini = 0.0</text>\n<text text-anchor=\"start\" x=\"19.5\" y=\"-387.3\" font-family=\"Helvetica,sans-Serif\" font-size=\"14.00\">samples = 32</text>\n<text text-anchor=\"start\" x=\"10\" y=\"-372.3\" font-family=\"Helvetica,sans-Serif\" font-size=\"14.00\">value = [0, 32, 0]</text>\n<text text-anchor=\"start\" x=\"8\" y=\"-357.3\" font-family=\"Helvetica,sans-Serif\" font-size=\"14.00\">class = versicolor</text>\n</g>\n<!-- 3&#45;&gt;4 -->\n<g id=\"edge4\" class=\"edge\">\n<title>3&#45;&gt;4</title>\n<path fill=\"none\" stroke=\"black\" d=\"M146.05,-460.91C132.83,-449.1 118.4,-436.22 105.23,-424.45\"/>\n<polygon fill=\"black\" stroke=\"black\" points=\"107.43,-421.72 97.64,-417.67 102.76,-426.94 107.43,-421.72\"/>\n</g>\n<!-- 5 -->\n<g id=\"node6\" class=\"node\">\n<title>5</title>\n<path fill=\"#8139e5\" stroke=\"black\" d=\"M240,-417.5C240,-417.5 151,-417.5 151,-417.5 145,-417.5 139,-411.5 139,-405.5 139,-405.5 139,-361.5 139,-361.5 139,-355.5 145,-349.5 151,-349.5 151,-349.5 240,-349.5 240,-349.5 246,-349.5 252,-355.5 252,-361.5 252,-361.5 252,-405.5 252,-405.5 252,-411.5 246,-417.5 240,-417.5\"/>\n<text text-anchor=\"start\" x=\"167.5\" y=\"-402.3\" font-family=\"Helvetica,sans-Serif\" font-size=\"14.00\">gini = 0.0</text>\n<text text-anchor=\"start\" x=\"158\" y=\"-387.3\" font-family=\"Helvetica,sans-Serif\" font-size=\"14.00\">samples = 1</text>\n<text text-anchor=\"start\" x=\"148.5\" y=\"-372.3\" font-family=\"Helvetica,sans-Serif\" font-size=\"14.00\">value = [0, 0, 1]</text>\n<text text-anchor=\"start\" x=\"147\" y=\"-357.3\" font-family=\"Helvetica,sans-Serif\" font-size=\"14.00\">class = virginica</text>\n</g>\n<!-- 3&#45;&gt;5 -->\n<g id=\"edge5\" class=\"edge\">\n<title>3&#45;&gt;5</title>\n<path fill=\"none\" stroke=\"black\" d=\"M192.89,-460.91C193.25,-450.2 193.65,-438.62 194.02,-427.78\"/>\n<polygon fill=\"black\" stroke=\"black\" points=\"197.52,-427.78 194.37,-417.67 190.53,-427.54 197.52,-427.78\"/>\n</g>\n<!-- 7 -->\n<g id=\"node8\" class=\"node\">\n<title>7</title>\n<path fill=\"#ffffff\" stroke=\"black\" d=\"M424,-425C424,-425 289,-425 289,-425 283,-425 277,-419 277,-413 277,-413 277,-354 277,-354 277,-348 283,-342 289,-342 289,-342 424,-342 424,-342 430,-342 436,-348 436,-354 436,-354 436,-413 436,-413 436,-419 430,-425 424,-425\"/>\n<text text-anchor=\"start\" x=\"285\" y=\"-409.8\" font-family=\"Helvetica,sans-Serif\" font-size=\"14.00\">petal length (cm) ≤ 4.95</text>\n<text text-anchor=\"start\" x=\"328.5\" y=\"-394.8\" font-family=\"Helvetica,sans-Serif\" font-size=\"14.00\">gini = 0.5</text>\n<text text-anchor=\"start\" x=\"319\" y=\"-379.8\" font-family=\"Helvetica,sans-Serif\" font-size=\"14.00\">samples = 8</text>\n<text text-anchor=\"start\" x=\"309.5\" y=\"-364.8\" font-family=\"Helvetica,sans-Serif\" font-size=\"14.00\">value = [0, 4, 4]</text>\n<text text-anchor=\"start\" x=\"304\" y=\"-349.8\" font-family=\"Helvetica,sans-Serif\" font-size=\"14.00\">class = versicolor</text>\n</g>\n<!-- 6&#45;&gt;7 -->\n<g id=\"edge7\" class=\"edge\">\n<title>6&#45;&gt;7</title>\n<path fill=\"none\" stroke=\"black\" d=\"M358.46,-460.91C358.25,-452.56 358.02,-443.67 357.8,-435.02\"/>\n<polygon fill=\"black\" stroke=\"black\" points=\"361.29,-434.93 357.54,-425.02 354.3,-435.11 361.29,-434.93\"/>\n</g>\n<!-- 14 -->\n<g id=\"node15\" class=\"node\">\n<title>14</title>\n<path fill=\"#853fe6\" stroke=\"black\" d=\"M601,-425C601,-425 466,-425 466,-425 460,-425 454,-419 454,-413 454,-413 454,-354 454,-354 454,-348 460,-342 466,-342 466,-342 601,-342 601,-342 607,-342 613,-348 613,-354 613,-354 613,-413 613,-413 613,-419 607,-425 601,-425\"/>\n<text text-anchor=\"start\" x=\"462\" y=\"-409.8\" font-family=\"Helvetica,sans-Serif\" font-size=\"14.00\">petal length (cm) ≤ 4.85</text>\n<text text-anchor=\"start\" x=\"498\" y=\"-394.8\" font-family=\"Helvetica,sans-Serif\" font-size=\"14.00\">gini = 0.059</text>\n<text text-anchor=\"start\" x=\"492.5\" y=\"-379.8\" font-family=\"Helvetica,sans-Serif\" font-size=\"14.00\">samples = 33</text>\n<text text-anchor=\"start\" x=\"483\" y=\"-364.8\" font-family=\"Helvetica,sans-Serif\" font-size=\"14.00\">value = [0, 1, 32]</text>\n<text text-anchor=\"start\" x=\"485\" y=\"-349.8\" font-family=\"Helvetica,sans-Serif\" font-size=\"14.00\">class = virginica</text>\n</g>\n<!-- 6&#45;&gt;14 -->\n<g id=\"edge14\" class=\"edge\">\n<title>6&#45;&gt;14</title>\n<path fill=\"none\" stroke=\"black\" d=\"M419.87,-460.91C434.31,-451.2 449.83,-440.76 464.63,-430.81\"/>\n<polygon fill=\"black\" stroke=\"black\" points=\"466.89,-433.51 473.24,-425.02 462.99,-427.7 466.89,-433.51\"/>\n</g>\n<!-- 8 -->\n<g id=\"node9\" class=\"node\">\n<title>8</title>\n<path fill=\"#39e581\" stroke=\"black\" d=\"M249,-298.5C249,-298.5 152,-298.5 152,-298.5 146,-298.5 140,-292.5 140,-286.5 140,-286.5 140,-242.5 140,-242.5 140,-236.5 146,-230.5 152,-230.5 152,-230.5 249,-230.5 249,-230.5 255,-230.5 261,-236.5 261,-242.5 261,-242.5 261,-286.5 261,-286.5 261,-292.5 255,-298.5 249,-298.5\"/>\n<text text-anchor=\"start\" x=\"172.5\" y=\"-283.3\" font-family=\"Helvetica,sans-Serif\" font-size=\"14.00\">gini = 0.0</text>\n<text text-anchor=\"start\" x=\"163\" y=\"-268.3\" font-family=\"Helvetica,sans-Serif\" font-size=\"14.00\">samples = 2</text>\n<text text-anchor=\"start\" x=\"153.5\" y=\"-253.3\" font-family=\"Helvetica,sans-Serif\" font-size=\"14.00\">value = [0, 2, 0]</text>\n<text text-anchor=\"start\" x=\"148\" y=\"-238.3\" font-family=\"Helvetica,sans-Serif\" font-size=\"14.00\">class = versicolor</text>\n</g>\n<!-- 7&#45;&gt;8 -->\n<g id=\"edge8\" class=\"edge\">\n<title>7&#45;&gt;8</title>\n<path fill=\"none\" stroke=\"black\" d=\"M302.38,-341.91C286.34,-329.88 268.81,-316.73 252.89,-304.79\"/>\n<polygon fill=\"black\" stroke=\"black\" points=\"254.82,-301.87 244.72,-298.67 250.62,-307.47 254.82,-301.87\"/>\n</g>\n<!-- 9 -->\n<g id=\"node10\" class=\"node\">\n<title>9</title>\n<path fill=\"#c09cf2\" stroke=\"black\" d=\"M421.5,-306C421.5,-306 291.5,-306 291.5,-306 285.5,-306 279.5,-300 279.5,-294 279.5,-294 279.5,-235 279.5,-235 279.5,-229 285.5,-223 291.5,-223 291.5,-223 421.5,-223 421.5,-223 427.5,-223 433.5,-229 433.5,-235 433.5,-235 433.5,-294 433.5,-294 433.5,-300 427.5,-306 421.5,-306\"/>\n<text text-anchor=\"start\" x=\"287.5\" y=\"-290.8\" font-family=\"Helvetica,sans-Serif\" font-size=\"14.00\">petal width (cm) ≤ 1.55</text>\n<text text-anchor=\"start\" x=\"321\" y=\"-275.8\" font-family=\"Helvetica,sans-Serif\" font-size=\"14.00\">gini = 0.444</text>\n<text text-anchor=\"start\" x=\"319\" y=\"-260.8\" font-family=\"Helvetica,sans-Serif\" font-size=\"14.00\">samples = 6</text>\n<text text-anchor=\"start\" x=\"309.5\" y=\"-245.8\" font-family=\"Helvetica,sans-Serif\" font-size=\"14.00\">value = [0, 2, 4]</text>\n<text text-anchor=\"start\" x=\"308\" y=\"-230.8\" font-family=\"Helvetica,sans-Serif\" font-size=\"14.00\">class = virginica</text>\n</g>\n<!-- 7&#45;&gt;9 -->\n<g id=\"edge9\" class=\"edge\">\n<title>7&#45;&gt;9</title>\n<path fill=\"none\" stroke=\"black\" d=\"M356.5,-341.91C356.5,-333.65 356.5,-324.86 356.5,-316.3\"/>\n<polygon fill=\"black\" stroke=\"black\" points=\"360,-316.02 356.5,-306.02 353,-316.02 360,-316.02\"/>\n</g>\n<!-- 10 -->\n<g id=\"node11\" class=\"node\">\n<title>10</title>\n<path fill=\"#8139e5\" stroke=\"black\" d=\"M249,-179.5C249,-179.5 160,-179.5 160,-179.5 154,-179.5 148,-173.5 148,-167.5 148,-167.5 148,-123.5 148,-123.5 148,-117.5 154,-111.5 160,-111.5 160,-111.5 249,-111.5 249,-111.5 255,-111.5 261,-117.5 261,-123.5 261,-123.5 261,-167.5 261,-167.5 261,-173.5 255,-179.5 249,-179.5\"/>\n<text text-anchor=\"start\" x=\"176.5\" y=\"-164.3\" font-family=\"Helvetica,sans-Serif\" font-size=\"14.00\">gini = 0.0</text>\n<text text-anchor=\"start\" x=\"167\" y=\"-149.3\" font-family=\"Helvetica,sans-Serif\" font-size=\"14.00\">samples = 3</text>\n<text text-anchor=\"start\" x=\"157.5\" y=\"-134.3\" font-family=\"Helvetica,sans-Serif\" font-size=\"14.00\">value = [0, 0, 3]</text>\n<text text-anchor=\"start\" x=\"156\" y=\"-119.3\" font-family=\"Helvetica,sans-Serif\" font-size=\"14.00\">class = virginica</text>\n</g>\n<!-- 9&#45;&gt;10 -->\n<g id=\"edge10\" class=\"edge\">\n<title>9&#45;&gt;10</title>\n<path fill=\"none\" stroke=\"black\" d=\"M303.76,-222.91C288.14,-210.88 271.06,-197.73 255.54,-185.79\"/>\n<polygon fill=\"black\" stroke=\"black\" points=\"257.65,-182.99 247.59,-179.67 253.38,-188.54 257.65,-182.99\"/>\n</g>\n<!-- 11 -->\n<g id=\"node12\" class=\"node\">\n<title>11</title>\n<path fill=\"#9cf2c0\" stroke=\"black\" d=\"M429.5,-187C429.5,-187 291.5,-187 291.5,-187 285.5,-187 279.5,-181 279.5,-175 279.5,-175 279.5,-116 279.5,-116 279.5,-110 285.5,-104 291.5,-104 291.5,-104 429.5,-104 429.5,-104 435.5,-104 441.5,-110 441.5,-116 441.5,-116 441.5,-175 441.5,-175 441.5,-181 435.5,-187 429.5,-187\"/>\n<text text-anchor=\"start\" x=\"287.5\" y=\"-171.8\" font-family=\"Helvetica,sans-Serif\" font-size=\"14.00\">sepal length (cm) ≤ 6.95</text>\n<text text-anchor=\"start\" x=\"325\" y=\"-156.8\" font-family=\"Helvetica,sans-Serif\" font-size=\"14.00\">gini = 0.444</text>\n<text text-anchor=\"start\" x=\"323\" y=\"-141.8\" font-family=\"Helvetica,sans-Serif\" font-size=\"14.00\">samples = 3</text>\n<text text-anchor=\"start\" x=\"313.5\" y=\"-126.8\" font-family=\"Helvetica,sans-Serif\" font-size=\"14.00\">value = [0, 2, 1]</text>\n<text text-anchor=\"start\" x=\"308\" y=\"-111.8\" font-family=\"Helvetica,sans-Serif\" font-size=\"14.00\">class = versicolor</text>\n</g>\n<!-- 9&#45;&gt;11 -->\n<g id=\"edge11\" class=\"edge\">\n<title>9&#45;&gt;11</title>\n<path fill=\"none\" stroke=\"black\" d=\"M357.89,-222.91C358.17,-214.56 358.48,-205.67 358.77,-197.02\"/>\n<polygon fill=\"black\" stroke=\"black\" points=\"362.27,-197.13 359.11,-187.02 355.27,-196.9 362.27,-197.13\"/>\n</g>\n<!-- 12 -->\n<g id=\"node13\" class=\"node\">\n<title>12</title>\n<path fill=\"#39e581\" stroke=\"black\" d=\"M342,-68C342,-68 245,-68 245,-68 239,-68 233,-62 233,-56 233,-56 233,-12 233,-12 233,-6 239,0 245,0 245,0 342,0 342,0 348,0 354,-6 354,-12 354,-12 354,-56 354,-56 354,-62 348,-68 342,-68\"/>\n<text text-anchor=\"start\" x=\"265.5\" y=\"-52.8\" font-family=\"Helvetica,sans-Serif\" font-size=\"14.00\">gini = 0.0</text>\n<text text-anchor=\"start\" x=\"256\" y=\"-37.8\" font-family=\"Helvetica,sans-Serif\" font-size=\"14.00\">samples = 2</text>\n<text text-anchor=\"start\" x=\"246.5\" y=\"-22.8\" font-family=\"Helvetica,sans-Serif\" font-size=\"14.00\">value = [0, 2, 0]</text>\n<text text-anchor=\"start\" x=\"241\" y=\"-7.8\" font-family=\"Helvetica,sans-Serif\" font-size=\"14.00\">class = versicolor</text>\n</g>\n<!-- 11&#45;&gt;12 -->\n<g id=\"edge12\" class=\"edge\">\n<title>11&#45;&gt;12</title>\n<path fill=\"none\" stroke=\"black\" d=\"M335.55,-103.73C330.19,-94.97 324.52,-85.7 319.14,-76.91\"/>\n<polygon fill=\"black\" stroke=\"black\" points=\"322.08,-75 313.88,-68.3 316.11,-78.66 322.08,-75\"/>\n</g>\n<!-- 13 -->\n<g id=\"node14\" class=\"node\">\n<title>13</title>\n<path fill=\"#8139e5\" stroke=\"black\" d=\"M473,-68C473,-68 384,-68 384,-68 378,-68 372,-62 372,-56 372,-56 372,-12 372,-12 372,-6 378,0 384,0 384,0 473,0 473,0 479,0 485,-6 485,-12 485,-12 485,-56 485,-56 485,-62 479,-68 473,-68\"/>\n<text text-anchor=\"start\" x=\"400.5\" y=\"-52.8\" font-family=\"Helvetica,sans-Serif\" font-size=\"14.00\">gini = 0.0</text>\n<text text-anchor=\"start\" x=\"391\" y=\"-37.8\" font-family=\"Helvetica,sans-Serif\" font-size=\"14.00\">samples = 1</text>\n<text text-anchor=\"start\" x=\"381.5\" y=\"-22.8\" font-family=\"Helvetica,sans-Serif\" font-size=\"14.00\">value = [0, 0, 1]</text>\n<text text-anchor=\"start\" x=\"380\" y=\"-7.8\" font-family=\"Helvetica,sans-Serif\" font-size=\"14.00\">class = virginica</text>\n</g>\n<!-- 11&#45;&gt;13 -->\n<g id=\"edge13\" class=\"edge\">\n<title>11&#45;&gt;13</title>\n<path fill=\"none\" stroke=\"black\" d=\"M385.82,-103.73C391.26,-94.97 397.01,-85.7 402.48,-76.91\"/>\n<polygon fill=\"black\" stroke=\"black\" points=\"405.52,-78.64 407.82,-68.3 399.57,-74.95 405.52,-78.64\"/>\n</g>\n<!-- 15 -->\n<g id=\"node16\" class=\"node\">\n<title>15</title>\n<path fill=\"#c09cf2\" stroke=\"black\" d=\"M602.5,-306C602.5,-306 464.5,-306 464.5,-306 458.5,-306 452.5,-300 452.5,-294 452.5,-294 452.5,-235 452.5,-235 452.5,-229 458.5,-223 464.5,-223 464.5,-223 602.5,-223 602.5,-223 608.5,-223 614.5,-229 614.5,-235 614.5,-235 614.5,-294 614.5,-294 614.5,-300 608.5,-306 602.5,-306\"/>\n<text text-anchor=\"start\" x=\"460.5\" y=\"-290.8\" font-family=\"Helvetica,sans-Serif\" font-size=\"14.00\">sepal length (cm) ≤ 5.95</text>\n<text text-anchor=\"start\" x=\"498\" y=\"-275.8\" font-family=\"Helvetica,sans-Serif\" font-size=\"14.00\">gini = 0.444</text>\n<text text-anchor=\"start\" x=\"496\" y=\"-260.8\" font-family=\"Helvetica,sans-Serif\" font-size=\"14.00\">samples = 3</text>\n<text text-anchor=\"start\" x=\"486.5\" y=\"-245.8\" font-family=\"Helvetica,sans-Serif\" font-size=\"14.00\">value = [0, 1, 2]</text>\n<text text-anchor=\"start\" x=\"485\" y=\"-230.8\" font-family=\"Helvetica,sans-Serif\" font-size=\"14.00\">class = virginica</text>\n</g>\n<!-- 14&#45;&gt;15 -->\n<g id=\"edge15\" class=\"edge\">\n<title>14&#45;&gt;15</title>\n<path fill=\"none\" stroke=\"black\" d=\"M533.5,-341.91C533.5,-333.65 533.5,-324.86 533.5,-316.3\"/>\n<polygon fill=\"black\" stroke=\"black\" points=\"537,-316.02 533.5,-306.02 530,-316.02 537,-316.02\"/>\n</g>\n<!-- 18 -->\n<g id=\"node19\" class=\"node\">\n<title>18</title>\n<path fill=\"#8139e5\" stroke=\"black\" d=\"M738,-298.5C738,-298.5 645,-298.5 645,-298.5 639,-298.5 633,-292.5 633,-286.5 633,-286.5 633,-242.5 633,-242.5 633,-236.5 639,-230.5 645,-230.5 645,-230.5 738,-230.5 738,-230.5 744,-230.5 750,-236.5 750,-242.5 750,-242.5 750,-286.5 750,-286.5 750,-292.5 744,-298.5 738,-298.5\"/>\n<text text-anchor=\"start\" x=\"663.5\" y=\"-283.3\" font-family=\"Helvetica,sans-Serif\" font-size=\"14.00\">gini = 0.0</text>\n<text text-anchor=\"start\" x=\"650.5\" y=\"-268.3\" font-family=\"Helvetica,sans-Serif\" font-size=\"14.00\">samples = 30</text>\n<text text-anchor=\"start\" x=\"641\" y=\"-253.3\" font-family=\"Helvetica,sans-Serif\" font-size=\"14.00\">value = [0, 0, 30]</text>\n<text text-anchor=\"start\" x=\"643\" y=\"-238.3\" font-family=\"Helvetica,sans-Serif\" font-size=\"14.00\">class = virginica</text>\n</g>\n<!-- 14&#45;&gt;18 -->\n<g id=\"edge18\" class=\"edge\">\n<title>14&#45;&gt;18</title>\n<path fill=\"none\" stroke=\"black\" d=\"M588.32,-341.91C604.56,-329.88 622.31,-316.73 638.44,-304.79\"/>\n<polygon fill=\"black\" stroke=\"black\" points=\"640.76,-307.43 646.71,-298.67 636.59,-301.81 640.76,-307.43\"/>\n</g>\n<!-- 16 -->\n<g id=\"node17\" class=\"node\">\n<title>16</title>\n<path fill=\"#39e581\" stroke=\"black\" d=\"M577,-179.5C577,-179.5 480,-179.5 480,-179.5 474,-179.5 468,-173.5 468,-167.5 468,-167.5 468,-123.5 468,-123.5 468,-117.5 474,-111.5 480,-111.5 480,-111.5 577,-111.5 577,-111.5 583,-111.5 589,-117.5 589,-123.5 589,-123.5 589,-167.5 589,-167.5 589,-173.5 583,-179.5 577,-179.5\"/>\n<text text-anchor=\"start\" x=\"500.5\" y=\"-164.3\" font-family=\"Helvetica,sans-Serif\" font-size=\"14.00\">gini = 0.0</text>\n<text text-anchor=\"start\" x=\"491\" y=\"-149.3\" font-family=\"Helvetica,sans-Serif\" font-size=\"14.00\">samples = 1</text>\n<text text-anchor=\"start\" x=\"481.5\" y=\"-134.3\" font-family=\"Helvetica,sans-Serif\" font-size=\"14.00\">value = [0, 1, 0]</text>\n<text text-anchor=\"start\" x=\"476\" y=\"-119.3\" font-family=\"Helvetica,sans-Serif\" font-size=\"14.00\">class = versicolor</text>\n</g>\n<!-- 15&#45;&gt;16 -->\n<g id=\"edge16\" class=\"edge\">\n<title>15&#45;&gt;16</title>\n<path fill=\"none\" stroke=\"black\" d=\"M531.77,-222.91C531.31,-212.2 530.81,-200.62 530.35,-189.78\"/>\n<polygon fill=\"black\" stroke=\"black\" points=\"533.84,-189.51 529.92,-179.67 526.85,-189.81 533.84,-189.51\"/>\n</g>\n<!-- 17 -->\n<g id=\"node18\" class=\"node\">\n<title>17</title>\n<path fill=\"#8139e5\" stroke=\"black\" d=\"M708,-179.5C708,-179.5 619,-179.5 619,-179.5 613,-179.5 607,-173.5 607,-167.5 607,-167.5 607,-123.5 607,-123.5 607,-117.5 613,-111.5 619,-111.5 619,-111.5 708,-111.5 708,-111.5 714,-111.5 720,-117.5 720,-123.5 720,-123.5 720,-167.5 720,-167.5 720,-173.5 714,-179.5 708,-179.5\"/>\n<text text-anchor=\"start\" x=\"635.5\" y=\"-164.3\" font-family=\"Helvetica,sans-Serif\" font-size=\"14.00\">gini = 0.0</text>\n<text text-anchor=\"start\" x=\"626\" y=\"-149.3\" font-family=\"Helvetica,sans-Serif\" font-size=\"14.00\">samples = 2</text>\n<text text-anchor=\"start\" x=\"616.5\" y=\"-134.3\" font-family=\"Helvetica,sans-Serif\" font-size=\"14.00\">value = [0, 0, 2]</text>\n<text text-anchor=\"start\" x=\"615\" y=\"-119.3\" font-family=\"Helvetica,sans-Serif\" font-size=\"14.00\">class = virginica</text>\n</g>\n<!-- 15&#45;&gt;17 -->\n<g id=\"edge17\" class=\"edge\">\n<title>15&#45;&gt;17</title>\n<path fill=\"none\" stroke=\"black\" d=\"M578.6,-222.91C591.72,-211.1 606.04,-198.22 619.11,-186.45\"/>\n<polygon fill=\"black\" stroke=\"black\" points=\"621.56,-188.96 626.65,-179.67 616.87,-183.76 621.56,-188.96\"/>\n</g>\n</g>\n</svg>\n",
            "text/plain": [
              "<graphviz.sources.Source at 0x7879a4ae9bd0>"
            ]
          },
          "metadata": {},
          "execution_count": 8
        }
      ]
    },
    {
      "cell_type": "markdown",
      "source": [
        "21. Write a Python program to train a Decision Tree Classifier with a maximum depth of 3 and compare its\n",
        "accuracy with a fully grown tree."
      ],
      "metadata": {
        "id": "ROjSlkbLw44t"
      }
    },
    {
      "cell_type": "code",
      "source": [
        "# Model with max_depth=3\n",
        "clf_depth3 = DecisionTreeClassifier(max_depth=3, random_state=42)\n",
        "clf_depth3.fit(X_train, y_train)\n",
        "acc_depth3 = accuracy_score(y_test, clf_depth3.predict(X_test))\n",
        "\n",
        "# Fully grown model\n",
        "clf_full = DecisionTreeClassifier(random_state=42)\n",
        "clf_full.fit(X_train, y_train)\n",
        "acc_full = accuracy_score(y_test, clf_full.predict(X_test))\n",
        "\n",
        "print(f\"Accuracy with max_depth=3: {acc_depth3:.2f}\")\n",
        "print(f\"Accuracy with full tree: {acc_full:.2f}\")\n"
      ],
      "metadata": {
        "colab": {
          "base_uri": "https://localhost:8080/"
        },
        "id": "MiOvx5WvxcO4",
        "outputId": "04942a48-dead-4d18-976f-25a380cab7bb"
      },
      "execution_count": null,
      "outputs": [
        {
          "output_type": "stream",
          "name": "stdout",
          "text": [
            "Accuracy with max_depth=3: 1.00\n",
            "Accuracy with full tree: 1.00\n"
          ]
        }
      ]
    },
    {
      "cell_type": "markdown",
      "source": [
        "22. Write a Python program to train a Decision Tree Classifier using min_samples_split=5 and compare its\n",
        "accuracy with a default tree."
      ],
      "metadata": {
        "id": "uoeAbn-VxdlO"
      }
    },
    {
      "cell_type": "code",
      "source": [
        "# Custom min_samples_split\n",
        "clf_split5 = DecisionTreeClassifier(min_samples_split=5, random_state=42)\n",
        "clf_split5.fit(X_train, y_train)\n",
        "acc_split5 = accuracy_score(y_test, clf_split5.predict(X_test))\n",
        "\n",
        "# Default tree\n",
        "clf_default = DecisionTreeClassifier(random_state=42)\n",
        "clf_default.fit(X_train, y_train)\n",
        "acc_default = accuracy_score(y_test, clf_default.predict(X_test))\n",
        "\n",
        "print(f\"Accuracy with min_samples_split=5: {acc_split5:.2f}\")\n",
        "print(f\"Accuracy with default: {acc_default:.2f}\")\n"
      ],
      "metadata": {
        "colab": {
          "base_uri": "https://localhost:8080/"
        },
        "id": "g1D-BCWgxhML",
        "outputId": "25c8c86b-08f0-4c56-e4ae-0553fccff87b"
      },
      "execution_count": null,
      "outputs": [
        {
          "output_type": "stream",
          "name": "stdout",
          "text": [
            "Accuracy with min_samples_split=5: 1.00\n",
            "Accuracy with default: 1.00\n"
          ]
        }
      ]
    },
    {
      "cell_type": "markdown",
      "source": [
        "23. Write a Python program to apply feature scaling before training a Decision Tree Classifier and compare its\n",
        "accuracy with unscaled data."
      ],
      "metadata": {
        "id": "kC_DJFa0xjoW"
      }
    },
    {
      "cell_type": "code",
      "source": [
        "from sklearn.preprocessing import StandardScaler\n",
        "\n",
        "# Apply scaling\n",
        "scaler = StandardScaler()\n",
        "X_train_scaled = scaler.fit_transform(X_train)\n",
        "X_test_scaled = scaler.transform(X_test)\n",
        "\n",
        "# Train with scaled data\n",
        "clf_scaled = DecisionTreeClassifier(random_state=42)\n",
        "clf_scaled.fit(X_train_scaled, y_train)\n",
        "acc_scaled = accuracy_score(y_test, clf_scaled.predict(X_test_scaled))\n",
        "\n",
        "# Train with unscaled data\n",
        "clf_unscaled = DecisionTreeClassifier(random_state=42)\n",
        "clf_unscaled.fit(X_train, y_train)\n",
        "acc_unscaled = accuracy_score(y_test, clf_unscaled.predict(X_test))\n",
        "\n",
        "print(f\"Accuracy with scaled data: {acc_scaled:.2f}\")\n",
        "print(f\"Accuracy with unscaled data: {acc_unscaled:.2f}\")\n"
      ],
      "metadata": {
        "colab": {
          "base_uri": "https://localhost:8080/"
        },
        "id": "cwYGZlutxmpB",
        "outputId": "1f193c91-b5ad-42d6-df5f-944d5f499268"
      },
      "execution_count": null,
      "outputs": [
        {
          "output_type": "stream",
          "name": "stdout",
          "text": [
            "Accuracy with scaled data: 1.00\n",
            "Accuracy with unscaled data: 1.00\n"
          ]
        }
      ]
    },
    {
      "cell_type": "markdown",
      "source": [
        "24. Write a Python program to train a Decision Tree Classifier using One-vs-Rest (OvR) strategy for multiclass\n",
        "classification."
      ],
      "metadata": {
        "id": "IyWaiZNRxphF"
      }
    },
    {
      "cell_type": "code",
      "source": [
        "from sklearn.multiclass import OneVsRestClassifier\n",
        "\n",
        "ovr_clf = OneVsRestClassifier(DecisionTreeClassifier(random_state=42))\n",
        "ovr_clf.fit(X_train, y_train)\n",
        "acc_ovr = accuracy_score(y_test, ovr_clf.predict(X_test))\n",
        "\n",
        "print(f\"OvR Classifier Accuracy: {acc_ovr:.2f}\")\n"
      ],
      "metadata": {
        "colab": {
          "base_uri": "https://localhost:8080/"
        },
        "id": "DRS-9KMMxty_",
        "outputId": "70910a9f-af8a-4bbb-aaad-39706f9153c4"
      },
      "execution_count": null,
      "outputs": [
        {
          "output_type": "stream",
          "name": "stdout",
          "text": [
            "OvR Classifier Accuracy: 1.00\n"
          ]
        }
      ]
    },
    {
      "cell_type": "markdown",
      "source": [
        "25.  Write a Python program to train a Decision Tree Classifier and display the feature importance scores."
      ],
      "metadata": {
        "id": "iBfbmi_JxwdV"
      }
    },
    {
      "cell_type": "code",
      "source": [
        "for feature, score in zip(iris.feature_names, clf.feature_importances_):\n",
        "    print(f\"{feature}: {score:.4f}\")\n"
      ],
      "metadata": {
        "colab": {
          "base_uri": "https://localhost:8080/"
        },
        "id": "cTa8cwWKxzfR",
        "outputId": "9667c726-aa40-4258-e1f8-1cda09e0df3a"
      },
      "execution_count": null,
      "outputs": [
        {
          "output_type": "stream",
          "name": "stdout",
          "text": [
            "sepal length (cm): 0.0382\n",
            "sepal width (cm): 0.0000\n",
            "petal length (cm): 0.4045\n",
            "petal width (cm): 0.5573\n"
          ]
        }
      ]
    },
    {
      "cell_type": "markdown",
      "source": [
        "26.  Write a Python program to train a Decision Tree Regressor with max_depth=5 and compare its performance\n",
        "with an unrestricted tree."
      ],
      "metadata": {
        "id": "G-FZdFpax2Rn"
      }
    },
    {
      "cell_type": "code",
      "source": [
        "reg_depth5 = DecisionTreeRegressor(max_depth=5, random_state=42)\n",
        "reg_depth5.fit(X_train_h, y_train_h)\n",
        "mse_depth5 = mean_squared_error(y_test_h, reg_depth5.predict(X_test_h))\n",
        "\n",
        "reg_full = DecisionTreeRegressor(random_state=42)\n",
        "reg_full.fit(X_train_h, y_train_h)\n",
        "mse_full = mean_squared_error(y_test_h, reg_full.predict(X_test_h))\n",
        "\n",
        "print(f\"MSE with max_depth=5: {mse_depth5:.2f}\")\n",
        "print(f\"MSE with full tree: {mse_full:.2f}\")\n"
      ],
      "metadata": {
        "colab": {
          "base_uri": "https://localhost:8080/"
        },
        "id": "VNImfaVQx593",
        "outputId": "8f61617c-fadf-490c-8826-c04f356efa7c"
      },
      "execution_count": null,
      "outputs": [
        {
          "output_type": "stream",
          "name": "stdout",
          "text": [
            "MSE with max_depth=5: 0.52\n",
            "MSE with full tree: 0.53\n"
          ]
        }
      ]
    },
    {
      "cell_type": "markdown",
      "source": [
        "27. Write a Python program to train a Decision Tree Classifier, apply Cost Complexity Pruning (CCP), and\n",
        "visualize its effect on accuracy."
      ],
      "metadata": {
        "id": "US1Zo8v5x85u"
      }
    },
    {
      "cell_type": "code",
      "source": [
        "import matplotlib.pyplot as plt\n",
        "import numpy as np\n",
        "\n",
        "# Train tree to get ccp_alphas\n",
        "clf_ccp = DecisionTreeClassifier(random_state=42)\n",
        "path = clf_ccp.cost_complexity_pruning_path(X_train, y_train)\n",
        "ccp_alphas = path.ccp_alphas\n",
        "\n",
        "# Train trees for each alpha\n",
        "clfs = []\n",
        "for alpha in ccp_alphas:\n",
        "    clf = DecisionTreeClassifier(random_state=42, ccp_alpha=alpha)\n",
        "    clf.fit(X_train, y_train)\n",
        "    clfs.append(clf)\n",
        "\n",
        "# Evaluate accuracy\n",
        "train_scores = [clf.score(X_train, y_train) for clf in clfs]\n",
        "test_scores = [clf.score(X_test, y_test) for clf in clfs]\n",
        "\n",
        "# Plot accuracy vs alpha\n",
        "plt.figure(figsize=(8, 4))\n",
        "plt.plot(ccp_alphas, train_scores, marker='o', label='Train Accuracy')\n",
        "plt.plot(ccp_alphas, test_scores, marker='s', label='Test Accuracy')\n",
        "plt.xlabel(\"CCP Alpha\")\n",
        "plt.ylabel(\"Accuracy\")\n",
        "plt.title(\"Cost Complexity Pruning Curve\")\n",
        "plt.legend()\n",
        "plt.grid(True)\n",
        "plt.tight_layout()\n",
        "plt.show()\n"
      ],
      "metadata": {
        "colab": {
          "base_uri": "https://localhost:8080/",
          "height": 407
        },
        "id": "mgSa3oB0yBwM",
        "outputId": "6e1ff569-16eb-40d4-c1db-720964670587"
      },
      "execution_count": null,
      "outputs": [
        {
          "output_type": "display_data",
          "data": {
            "text/plain": [
              "<Figure size 800x400 with 1 Axes>"
            ],
            "image/png": "[encoded data removed]"
          },
          "metadata": {}
        }
      ]
    },
    {
      "cell_type": "markdown",
      "source": [
        "28. Write a Python program to train a Decision Tree Classifier and evaluate its performance using Precision,\n",
        "Recall, and F1-Score."
      ],
      "metadata": {
        "id": "lXxNo1CpyIwc"
      }
    },
    {
      "cell_type": "code",
      "source": [
        "from sklearn.metrics import classification_report\n",
        "import warnings\n",
        "warnings.filterwarnings(\"ignore\")\n",
        "\n",
        "# Train model\n",
        "clf = DecisionTreeClassifier(random_state=42)\n",
        "clf.fit(X_train, y_train)\n",
        "\n",
        "# Predictions\n",
        "y_pred_cr = clf.predict(X_test)\n",
        "\n",
        "# Classification report\n",
        "print(\"Classification Report:\")\n",
        "print(classification_report(y_test, y_pred_cr, target_names=iris.target_names))\n"
      ],
      "metadata": {
        "colab": {
          "base_uri": "https://localhost:8080/"
        },
        "id": "v5fqa24XyLwA",
        "outputId": "a081e9e2-80d6-46ef-a32e-839821c8afc4"
      },
      "execution_count": null,
      "outputs": [
        {
          "output_type": "stream",
          "name": "stdout",
          "text": [
            "Classification Report:\n",
            "              precision    recall  f1-score   support\n",
            "\n",
            "      setosa       1.00      1.00      1.00        19\n",
            "  versicolor       1.00      1.00      1.00        13\n",
            "   virginica       1.00      1.00      1.00        13\n",
            "\n",
            "    accuracy                           1.00        45\n",
            "   macro avg       1.00      1.00      1.00        45\n",
            "weighted avg       1.00      1.00      1.00        45\n",
            "\n"
          ]
        }
      ]
    },
    {
      "cell_type": "markdown",
      "source": [
        "29.  Write a Python program to train a Decision Tree Classifier and visualize the confusion matrix using seaborn."
      ],
      "metadata": {
        "id": "VE0a_yduyTL1"
      }
    },
    {
      "cell_type": "code",
      "source": [
        "from sklearn.metrics import confusion_matrix\n",
        "import seaborn as sns\n",
        "\n",
        "# Confusion matrix\n",
        "cm = confusion_matrix(y_test, y_pred_cr)\n",
        "\n",
        "# Plot using seaborn\n",
        "plt.figure(figsize=(6, 5))\n",
        "sns.heatmap(cm, annot=True, fmt='d', cmap='Blues',\n",
        "            xticklabels=iris.target_names, yticklabels=iris.target_names)\n",
        "plt.xlabel(\"Predicted\")\n",
        "plt.ylabel(\"Actual\")\n",
        "plt.title(\"Confusion Matrix\")\n",
        "plt.tight_layout()\n",
        "plt.show()\n"
      ],
      "metadata": {
        "colab": {
          "base_uri": "https://localhost:8080/",
          "height": 507
        },
        "id": "o7n-wUOvyWpk",
        "outputId": "21844476-b43e-412b-eacd-d883c7d41daf"
      },
      "execution_count": null,
      "outputs": [
        {
          "output_type": "display_data",
          "data": {
            "text/plain": [
              "<Figure size 600x500 with 2 Axes>"
            ],
            "image/png": "[encoded data removed]"
          },
          "metadata": {}
        }
      ]
    },
    {
      "cell_type": "markdown",
      "source": [
        "30. Write a Python program to train a Decision Tree Classifier and use GridSearchCV to find the optimal values\n",
        "for max_depth and min_samples_split."
      ],
      "metadata": {
        "id": "IAK6yI64yaF4"
      }
    },
    {
      "cell_type": "code",
      "source": [
        "from sklearn.model_selection import GridSearchCV\n",
        "\n",
        "# Define model and parameter grid\n",
        "param_grid = {\n",
        "    'max_depth': [2, 3, 4, 5, None],\n",
        "    'min_samples_split': [2, 5, 10]\n",
        "}\n",
        "\n",
        "grid_search = GridSearchCV(DecisionTreeClassifier(random_state=42), param_grid, cv=5)\n",
        "grid_search.fit(X_train, y_train)\n",
        "\n",
        "# Best parameters and accuracy\n",
        "print(\"Best Parameters:\", grid_search.best_params_)\n",
        "print(\"Best CV Score:\", grid_search.best_score_)\n",
        "print(\"Test Accuracy with Best Params:\", grid_search.score(X_test, y_test))\n"
      ],
      "metadata": {
        "colab": {
          "base_uri": "https://localhost:8080/"
        },
        "id": "h7LloUGYyc2V",
        "outputId": "b190d536-301a-4667-dc69-8034073da66d"
      },
      "execution_count": null,
      "outputs": [
        {
          "output_type": "stream",
          "name": "stdout",
          "text": [
            "Best Parameters: {'max_depth': 4, 'min_samples_split': 10}\n",
            "Best CV Score: 0.9428571428571428\n",
            "Test Accuracy with Best Params: 1.0\n"
          ]
        }
      ]
    }
  ]
}